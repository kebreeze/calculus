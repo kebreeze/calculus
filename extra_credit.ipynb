{
 "cells": [
  {
   "cell_type": "markdown",
   "id": "8e462719-0799-48a6-8a1f-1f1f1b34a317",
   "metadata": {},
   "source": [
    "# Trapezoidal Rule Calculator"
   ]
  },
  {
   "cell_type": "code",
   "execution_count": 9,
   "id": "e6d3f41c-2de2-4f13-bcb8-04e652fd35e3",
   "metadata": {},
   "outputs": [],
   "source": [
    "import pandas as pd\n",
    "import numpy as np\n",
    "import ipywidgets as widgets\n",
    "from IPython.display import display\n",
    "import math"
   ]
  },
  {
   "cell_type": "markdown",
   "id": "2f9e03dd-9685-433f-b580-f8fe17fff553",
   "metadata": {},
   "source": [
    "### Formula for the Trapezoidal Rule \n",
    "$$\\int_{a}^{b}f(x)dx$$\n",
    "\n",
    "$$\\int_{a}^{b}f(x)dx\\approx\\frac{1}{2}\\sum_{i=1}^{n}\\left(x_{i}-x_{i-1}\\right)\\left(f(x_{i})+f(x_{i-1})\\right)$$\n",
    "\n",
    "\n",
    "$$\\int_{a}^{b}f(x)dx\\approx\\frac{1}{2}\\sum_{i=1}^{n}\\left(x_{i}-x_{i-1}\\right)\\left(y_{i}+y_{i-1}\\right)$$\n",
    "\n",
    "$\\int_0^3 x^2$"
   ]
  },
  {
   "cell_type": "code",
   "execution_count": 2,
   "id": "98df9a22-2121-4b98-950e-f3118135d729",
   "metadata": {},
   "outputs": [
    {
     "name": "stdin",
     "output_type": "stream",
     "text": [
      "Enter the number of trapezoids/subintervals (n) that you would like to use:  10\n",
      "Enter the upper bound (b) that you would like to use:  8\n",
      "Enter the lower bound (a) that you would like to use:  2\n"
     ]
    }
   ],
   "source": [
    "n = int(input('Enter the number of trapezoids/subintervals (n) that you would like to use: '))\n",
    "b = int(input('Enter the upper bound (b) that you would like to use: '))\n",
    "a = int(input('Enter the lower bound (a) that you would like to use: '))\n",
    "h = (b-a)/n\n",
    "x = np.linspace(a,b, num=n+1)"
   ]
  },
  {
   "cell_type": "markdown",
   "id": "b2c3a896-f00b-4166-9f26-3f9aa26f5fc6",
   "metadata": {},
   "source": [
    "## User Function  \n",
    "Enter your function in the space below or use the function provided. [Click here](https://numpy.org/doc/stable/reference/routines.math.html) for help writing mathematical functions in python using numpy. "
   ]
  },
  {
   "cell_type": "code",
   "execution_count": 3,
   "id": "b09169be-ae39-47be-bc44-0ee7e7f1a6cf",
   "metadata": {},
   "outputs": [],
   "source": [
    "y = x**2 + 3*x"
   ]
  },
  {
   "cell_type": "code",
   "execution_count": null,
   "id": "8418caa9-574d-445d-bc83-1359f972f049",
   "metadata": {},
   "outputs": [],
   "source": []
  },
  {
   "cell_type": "code",
   "execution_count": 4,
   "id": "912ebbe6-a511-4257-95f8-d375ec44c79a",
   "metadata": {},
   "outputs": [],
   "source": [
    "y = np.sin(x)"
   ]
  },
  {
   "cell_type": "markdown",
   "id": "010afede-783a-425c-9ecd-6c0d2473f054",
   "metadata": {},
   "source": [
    "# The `trapezoid_calc()` Function  \n",
    "\n",
    "The `trapezoid_calc()` function will take inputs from above and generate an integral approximation. **No changes should be made to this code block.**"
   ]
  },
  {
   "cell_type": "code",
   "execution_count": 22,
   "id": "da515300-46f2-45fa-92d2-f5084d21eec6",
   "metadata": {},
   "outputs": [],
   "source": [
    "def trapezoid_calc():\n",
    "    mid = np.sum(y[1:n]*2)\n",
    "    first_last = y[0] + y[n]\n",
    "    all_sum = mid + first_last\n",
    "    integral_approx = (h/2)*all_sum\n",
    "    return integral_approx"
   ]
  },
  {
   "cell_type": "markdown",
   "id": "f35ecbe1-871b-487c-8f78-3f14f6dd99e2",
   "metadata": {},
   "source": [
    "## Calculate Your Integral Approximation  \n",
    "\n",
    "You can calculate your integral approximation by running the code below.  \n",
    "\n",
    "Note: No changes need to be made to the code, the correct integral will be calculated based on your entries above."
   ]
  },
  {
   "cell_type": "code",
   "execution_count": 23,
   "id": "704ab9ee-e565-4d95-b6bf-1d1c78945cb9",
   "metadata": {},
   "outputs": [
    {
     "name": "stdout",
     "output_type": "stream",
     "text": [
      "Integral approximation: 258.35999999999996\n"
     ]
    }
   ],
   "source": [
    "print(f\"Integral approximation: {trapezoid_calc()}\")"
   ]
  },
  {
   "cell_type": "code",
   "execution_count": 26,
   "id": "01732943-02e8-4a43-a4c8-1af200485f10",
   "metadata": {},
   "outputs": [],
   "source": [
    "def trapezoid_calc_button():\n",
    "    with output:\n",
    "        mid = np.sum(y[1:n]*2)\n",
    "        first_last = y[0] + y[n]\n",
    "        all_sum = mid + first_last\n",
    "        integral_approx = (h/2)*all_sum\n",
    "    return integral_approx"
   ]
  },
  {
   "cell_type": "code",
   "execution_count": 25,
   "id": "e93ed480-8d77-4aaf-92e2-a7fb1f7f9732",
   "metadata": {
    "tags": []
   },
   "outputs": [
    {
     "data": {
      "application/vnd.jupyter.widget-view+json": {
       "model_id": "971e616d21674391955b6727ad9cecb4",
       "version_major": 2,
       "version_minor": 0
      },
      "text/plain": [
       "Button(button_style='info', description='Calculate Integral', icon='calculator', style=ButtonStyle())"
      ]
     },
     "metadata": {},
     "output_type": "display_data"
    },
    {
     "data": {
      "application/vnd.jupyter.widget-view+json": {
       "model_id": "2827d14b9981488b928b83fc7b54c816",
       "version_major": 2,
       "version_minor": 0
      },
      "text/plain": [
       "Output()"
      ]
     },
     "metadata": {},
     "output_type": "display_data"
    }
   ],
   "source": [
    "button = widgets.Button(\n",
    "    description='Calculate Integral',\n",
    "    button_style='info',\n",
    "    icon='calculator'\n",
    ")\n",
    "output = widgets.Output()\n",
    "\n",
    "def on_button_clicked(b):\n",
    "    trapezoid_calc_button()\n",
    "    with output:\n",
    "       print(f\"Integral approximation: {trapezoid_calc_button()}\")\n",
    "        \n",
    "display(button, output)\n",
    "\n",
    "button.on_click(on_button_clicked)"
   ]
  },
  {
   "cell_type": "code",
   "execution_count": null,
   "id": "5a6dc991-9ced-43bd-9f64-2373895cd710",
   "metadata": {},
   "outputs": [],
   "source": []
  },
  {
   "cell_type": "code",
   "execution_count": 7,
   "id": "8c5548f0-c5c8-4fc5-809e-86d94d8a722f",
   "metadata": {},
   "outputs": [
    {
     "name": "stdout",
     "output_type": "stream",
     "text": [
      "[-0.95892427 -0.50827908  0.21511999  0.82308088  0.98935825  0.62472395\n",
      " -0.07515112 -0.73469843 -0.99999021 -0.72866498 -0.0663219   0.63161099\n",
      "  0.99060736  0.81802176  0.20646748 -0.51588185 -0.96139749]\n",
      "[-1.01655815  0.43023998  1.64616176  1.97871649  1.24944791 -0.15030224\n",
      " -1.46939686 -1.99998041 -1.45732995 -0.13264379  1.26322198  1.98121471\n",
      "  1.63604353  0.41293496 -1.03176369]\n",
      "0.375\n",
      "[ 5.    5.75  6.5   7.25  8.    8.75  9.5  10.25 11.   11.75 12.5  13.25\n",
      " 14.   14.75 15.5  16.25 17.  ]\n",
      "[ 5.75  6.5   7.25  8.    8.75  9.5  10.25 11.   11.75 12.5  13.25 14.\n",
      " 14.75 15.5 ]\n",
      "[-0.50827908  0.21511999  0.82308088  0.98935825  0.62472395 -0.07515112\n",
      " -0.73469843 -0.99999021 -0.72866498 -0.0663219   0.63161099  0.99060736\n",
      "  0.81802176  0.20646748]\n",
      "0.9192930486871573\n",
      "[-0.50827908  0.21511999  0.82308088  0.98935825  0.62472395 -0.07515112\n",
      " -0.73469843 -0.99999021 -0.72866498 -0.0663219   0.63161099  0.99060736\n",
      "  0.81802176  0.20646748 -0.51588185 -0.96139749]\n"
     ]
    }
   ],
   "source": [
    "print(y)\n",
    "print(y[1:n]*2)\n",
    "print(h/2)\n",
    "print(x)\n",
    "print(x[1:n-1])\n",
    "print(y[1:n-1])\n",
    "\n",
    "print((h/2)*(np.sum(y[1:n-1]*2) + y[0] + y[n]))\n",
    "print(y[1:n+1])"
   ]
  },
  {
   "cell_type": "code",
   "execution_count": 8,
   "id": "46ea7a91-e5b7-4253-872a-0ff7620f0111",
   "metadata": {},
   "outputs": [
    {
     "data": {
      "application/vnd.jupyter.widget-view+json": {
       "model_id": "ac7f1209df384c098026619892597e1f",
       "version_major": 2,
       "version_minor": 0
      },
      "text/plain": [
       "Button(description='Click Me!', style=ButtonStyle())"
      ]
     },
     "metadata": {},
     "output_type": "display_data"
    },
    {
     "data": {
      "application/vnd.jupyter.widget-view+json": {
       "model_id": "c3547260c23549d481344b152bce96e7",
       "version_major": 2,
       "version_minor": 0
      },
      "text/plain": [
       "Output()"
      ]
     },
     "metadata": {},
     "output_type": "display_data"
    }
   ],
   "source": [
    "from IPython.display import display\n",
    "button = widgets.Button(description=\"Click Me!\")\n",
    "output = widgets.Output()\n",
    "\n",
    "display(button, output)\n",
    "\n",
    "def on_button_clicked(b):\n",
    "    with output:\n",
    "        print(\"Button clicked.\")\n",
    "\n",
    "button.on_click(on_button_clicked)"
   ]
  },
  {
   "cell_type": "code",
   "execution_count": 8,
   "id": "aec6b7c9-745c-4275-9f63-8c6a8049b763",
   "metadata": {},
   "outputs": [
    {
     "data": {
      "text/plain": [
       "(1.6666666666666667, 1.8503717077085944e-14)"
      ]
     },
     "execution_count": 8,
     "metadata": {},
     "output_type": "execute_result"
    }
   ],
   "source": [
    "from scipy.integrate import quad\n",
    "def integrand(x, a, b):\n",
    "    return a*x**2 + b\n",
    "\n",
    "a = 2\n",
    "b = 1\n",
    "I = quad(integrand, 0, 1, args=(a,b))\n",
    "I\n",
    "(1.6666666666666667, 1.8503717077085944e-14)"
   ]
  },
  {
   "cell_type": "code",
   "execution_count": 2,
   "id": "f38156b7-ebf5-418f-8043-470814d74ccc",
   "metadata": {},
   "outputs": [
    {
     "data": {
      "application/vnd.jupyter.widget-view+json": {
       "model_id": "a6093bc5f5bc43c8915663e3e777c7e8",
       "version_major": 2,
       "version_minor": 0
      },
      "text/plain": [
       "IntText(value=7, description='n = ')"
      ]
     },
     "execution_count": 2,
     "metadata": {},
     "output_type": "execute_result"
    }
   ],
   "source": [
    "widgets.IntText(\n",
    "    value=7,\n",
    "    description='n = ',\n",
    "    disabled=False\n",
    ")"
   ]
  },
  {
   "cell_type": "code",
   "execution_count": null,
   "id": "f49d5c83-8784-447f-9105-e25f0eb23f27",
   "metadata": {},
   "outputs": [],
   "source": []
  }
 ],
 "metadata": {
  "kernelspec": {
   "display_name": "Python 3 (ipykernel)",
   "language": "python",
   "name": "python3"
  },
  "language_info": {
   "codemirror_mode": {
    "name": "ipython",
    "version": 3
   },
   "file_extension": ".py",
   "mimetype": "text/x-python",
   "name": "python",
   "nbconvert_exporter": "python",
   "pygments_lexer": "ipython3",
   "version": "3.10.8"
  }
 },
 "nbformat": 4,
 "nbformat_minor": 5
}
